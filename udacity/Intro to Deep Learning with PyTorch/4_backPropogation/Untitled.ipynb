{
 "cells": [
  {
   "cell_type": "code",
   "execution_count": 1,
   "metadata": {},
   "outputs": [
    {
     "name": "stdout",
     "output_type": "stream",
     "text": [
      "  adding: StudentAdmissions.ipynb (deflated 73%)\r\n",
      "  adding: StudentAdmissionsSolutions.ipynb (deflated 69%)\r\n",
      "  adding: Untitled.ipynb (deflated 51%)\r\n",
      "  adding: student_data.csv (deflated 72%)\r\n"
     ]
    }
   ],
   "source": [
    "!zip 4_backPropogation.zip *"
   ]
  },
  {
   "cell_type": "code",
   "execution_count": null,
   "metadata": {},
   "outputs": [],
   "source": []
  }
 ],
 "metadata": {
  "kernelspec": {
   "display_name": "Python 3",
   "language": "python",
   "name": "python3"
  },
  "language_info": {
   "codemirror_mode": {
    "name": "ipython",
    "version": 3
   },
   "file_extension": ".py",
   "mimetype": "text/x-python",
   "name": "python",
   "nbconvert_exporter": "python",
   "pygments_lexer": "ipython3",
   "version": "3.6.3"
  }
 },
 "nbformat": 4,
 "nbformat_minor": 2
}
